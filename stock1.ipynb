{
  "nbformat": 4,
  "nbformat_minor": 0,
  "metadata": {
    "colab": {
      "provenance": [],
      "authorship_tag": "ABX9TyPz6tWhSZFijJBgVvluKXCD",
      "include_colab_link": true
    },
    "kernelspec": {
      "name": "python3",
      "display_name": "Python 3"
    },
    "language_info": {
      "name": "python"
    }
  },
  "cells": [
    {
      "cell_type": "markdown",
      "metadata": {
        "id": "view-in-github",
        "colab_type": "text"
      },
      "source": [
        "<a href=\"https://colab.research.google.com/github/joebutler1966/joesdata1/blob/main/stock1.ipynb\" target=\"_parent\"><img src=\"https://colab.research.google.com/assets/colab-badge.svg\" alt=\"Open In Colab\"/></a>"
      ]
    },
    {
      "cell_type": "code",
      "source": [
        "import pandas as pd\n",
        "import yfinance as yf  # Install yfinance if not already installed: pip install yfinance\n",
        "\n",
        "# Function to estimate stock direction using moving average crossover strategy\n",
        "def estimate_stock_direction(ticker_symbol, start_date, end_date):\n",
        "    # Download stock data from Yahoo Finance\n",
        "    stock_data = yf.download(ticker_symbol, start=start_date, end=end_date)\n",
        "\n",
        "    # Calculate short-term (e.g., 50-day) and long-term (e.g., 200-day) moving averages\n",
        "    short_window = 50\n",
        "    long_window = 200\n",
        "\n",
        "    stock_data['Short_MA'] = stock_data['Close'].rolling(window=short_window, min_periods=1).mean()\n",
        "    stock_data['Long_MA'] = stock_data['Close'].rolling(window=long_window, min_periods=1).mean()\n",
        "\n",
        "    # Generate buy/sell signals based on the moving average crossover\n",
        "    stock_data['Signal'] = 0  # Initialize the 'Signal' column\n",
        "\n",
        "    stock_data.loc[stock_data['Short_MA'] > stock_data['Long_MA'], 'Signal'] = 1  # Buy signal\n",
        "    stock_data.loc[stock_data['Short_MA'] < stock_data['Long_MA'], 'Signal'] = -1  # Sell signal\n",
        "\n",
        "    # Display the estimated direction based on the latest signal\n",
        "    latest_signal = stock_data['Signal'].iloc[-1]\n",
        "    if latest_signal == 1:\n",
        "        print(f\"The estimated direction of {ticker_symbol} is upward (Buy signal).\")\n",
        "    elif latest_signal == -1:\n",
        "        print(f\"The estimated direction of {ticker_symbol} is downward (Sell signal).\")\n",
        "    else:\n",
        "        print(f\"The estimated direction of {ticker_symbol} is neutral.\")\n",
        "\n",
        "# Example usage: Estimating direction of Apple (AAPL) stock\n",
        "ticker = 'spy'\n",
        "start_date = '2023-01-01'\n",
        "end_date = '2023-12-31'\n",
        "\n",
        "estimate_stock_direction(ticker, start_date, end_date)\n"
      ],
      "metadata": {
        "colab": {
          "base_uri": "https://localhost:8080/"
        },
        "id": "6WApO0RA8e0s",
        "outputId": "a0681aec-02a4-42ab-86d1-c5363510c494"
      },
      "execution_count": 4,
      "outputs": [
        {
          "output_type": "stream",
          "name": "stdout",
          "text": [
            "\r[*********************100%%**********************]  1 of 1 completed\n",
            "The estimated direction of spy is upward (Buy signal).\n"
          ]
        }
      ]
    }
  ]
}